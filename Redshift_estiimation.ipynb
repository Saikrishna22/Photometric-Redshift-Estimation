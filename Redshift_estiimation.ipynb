{
  "nbformat": 4,
  "nbformat_minor": 0,
  "metadata": {
    "colab": {
      "name": "Redshift estiimation.ipynb",
      "provenance": [],
      "collapsed_sections": [],
      "toc_visible": true,
      "machine_shape": "hm"
    },
    "kernelspec": {
      "name": "python3",
      "display_name": "Python 3"
    },
    "accelerator": "GPU"
  },
  "cells": [
    {
      "cell_type": "code",
      "metadata": {
        "id": "tN-yBMHgsylT"
      },
      "source": [
        ""
      ],
      "execution_count": null,
      "outputs": []
    },
    {
      "cell_type": "code",
      "metadata": {
        "id": "5h1TjBjama4F"
      },
      "source": [
        "import numpy as np\n",
        "import pickle\n",
        "import cv2\n",
        "from os import listdir\n",
        "from sklearn.preprocessing import LabelBinarizer\n",
        "from keras.models import Sequential\n",
        "from keras.layers.normalization import BatchNormalization\n",
        "from keras.layers.convolutional import Conv2D\n",
        "from keras.layers.convolutional import MaxPooling2D\n",
        "from keras.layers.core import Activation, Flatten, Dropout, Dense\n",
        "from keras import backend as K\n",
        "from keras import metrics\n",
        "from keras.preprocessing.image import ImageDataGenerator\n",
        "from keras.optimizers import Adam\n",
        "from keras.preprocessing import image\n",
        "from keras.preprocessing.image import img_to_array\n",
        "from sklearn.preprocessing import MultiLabelBinarizer\n",
        "from sklearn.model_selection import train_test_split\n",
        "import matplotlib.pyplot as plt\n",
        "import tqdm\n",
        "from tqdm import tqdm\n",
        "from keras import regularizers\n",
        "from keras.callbacks import EarlyStopping\n",
        "# K.tensorflow_backend._get_available_gpus()"
      ],
      "execution_count": 1,
      "outputs": []
    },
    {
      "cell_type": "code",
      "metadata": {
        "id": "1v_ikU1h2ztF"
      },
      "source": [
        "# !unzip \"/content/drive/MyDrive/redshift/sdss_images.zip\" -d \"/content\""
      ],
      "execution_count": 38,
      "outputs": []
    },
    {
      "cell_type": "code",
      "metadata": {
        "id": "8kXZtGwamdHo"
      },
      "source": [
        "EPOCHS = 10\n",
        "INIT_LR = 1e-3\n",
        "BS = 32\n",
        "default_image_size = tuple((72, 72))\n",
        "image_size = 0\n",
        "directory_root = 'sdss_images'\n",
        "width=72\n",
        "height=72\n",
        "depth=3"
      ],
      "execution_count": 2,
      "outputs": []
    },
    {
      "cell_type": "code",
      "metadata": {
        "id": "On8Q28loy16X"
      },
      "source": [
        "#collecting image names\n",
        "image_names = listdir('sdss_images')"
      ],
      "execution_count": 3,
      "outputs": []
    },
    {
      "cell_type": "code",
      "metadata": {
        "colab": {
          "base_uri": "https://localhost:8080/"
        },
        "id": "GwRmiJn6mdCb",
        "outputId": "27ef77ef-2af8-430b-929b-560c7eae666e"
      },
      "source": [
        "len(image_names)"
      ],
      "execution_count": 4,
      "outputs": [
        {
          "output_type": "execute_result",
          "data": {
            "text/plain": [
              "57720"
            ]
          },
          "metadata": {
            "tags": []
          },
          "execution_count": 4
        }
      ]
    },
    {
      "cell_type": "code",
      "metadata": {
        "id": "SEmcA9rMmc1F"
      },
      "source": [
        "directory = 'sdss_images/'"
      ],
      "execution_count": 5,
      "outputs": []
    },
    {
      "cell_type": "code",
      "metadata": {
        "id": "QJ0cZHP_mcyP"
      },
      "source": [
        "image = cv2.imread(directory + image_names[1])"
      ],
      "execution_count": 6,
      "outputs": []
    },
    {
      "cell_type": "code",
      "metadata": {
        "colab": {
          "base_uri": "https://localhost:8080/",
          "height": 286
        },
        "id": "E9vBsdCUmcvX",
        "outputId": "80a31949-484e-45b4-c16f-593bfb025b1e"
      },
      "source": [
        "plt.imshow(image)"
      ],
      "execution_count": 7,
      "outputs": [
        {
          "output_type": "execute_result",
          "data": {
            "text/plain": [
              "<matplotlib.image.AxesImage at 0x7f029ff7c1d0>"
            ]
          },
          "metadata": {
            "tags": []
          },
          "execution_count": 7
        },
        {
          "output_type": "display_data",
          "data": {
            "image/png": "[encoded data removed]",
            "text/plain": [
              "<Figure size 432x288 with 1 Axes>"
            ]
          },
          "metadata": {
            "tags": [],
            "needs_background": "light"
          }
        }
      ]
    },
    {
      "cell_type": "code",
      "metadata": {
        "id": "jNl8ElBomcp6"
      },
      "source": [
        "image_list = []\n",
        "target_list = []\n",
        "import re"
      ],
      "execution_count": 8,
      "outputs": []
    },
    {
      "cell_type": "code",
      "metadata": {
        "colab": {
          "base_uri": "https://localhost:8080/"
        },
        "id": "tgKSDdpsmcm_",
        "outputId": "146163f5-b06a-4de7-bb42-6013e228a662"
      },
      "source": [
        "# collecting image array and target array\n",
        "for i in tqdm(image_names):\n",
        "  image = cv2.imread(directory + i)\n",
        "  image = cv2.resize(image, default_image_size)\n",
        "  image_list.append(image)\n",
        "  target = re.findall('(?<=_z_).*$', i)[0][:-4]\n",
        "  target_list.append(float(target))\n",
        "image_arr = np.array(image_list)\n",
        "target_Arr = np.array(target_list)"
      ],
      "execution_count": 9,
      "outputs": [
        {
          "output_type": "stream",
          "text": [
            "100%|██████████| 57720/57720 [00:06<00:00, 9218.87it/s]\n"
          ],
          "name": "stderr"
        }
      ]
    },
    {
      "cell_type": "code",
      "metadata": {
        "id": "PNxPz2Etzm5k"
      },
      "source": [
        "image_arr1 = np.array(image_arr, dtype=np.float16) / 225.0"
      ],
      "execution_count": 10,
      "outputs": []
    },
    {
      "cell_type": "code",
      "metadata": {
        "colab": {
          "base_uri": "https://localhost:8080/"
        },
        "id": "8jzwGHGGzm8y",
        "outputId": "9e32a108-6ed6-4859-82e5-05fc5e5b0b2a"
      },
      "source": [
        "print(\"[INFO] Spliting data to train, test\")\n",
        "x_train, x_test, y_train, y_test = train_test_split(image_arr1, target_Arr, test_size=0.3, random_state = 42)\n",
        "aug = ImageDataGenerator(\n",
        "    rotation_range=25, width_shift_range=0.1,\n",
        "    height_shift_range=0.1, shear_range=0.2, \n",
        "    zoom_range=0.2,horizontal_flip=True, \n",
        "    fill_mode=\"nearest\")\n",
        "print(x_train.shape)\n",
        "print(y_train.shape)"
      ],
      "execution_count": 11,
      "outputs": [
        {
          "output_type": "stream",
          "text": [
            "[INFO] Spliting data to train, test\n",
            "(40404, 72, 72, 3)\n",
            "(40404,)\n"
          ],
          "name": "stdout"
        }
      ]
    },
    {
      "cell_type": "markdown",
      "metadata": {
        "id": "A2qRyKlwCcAj"
      },
      "source": [
        "Simple CNN"
      ]
    },
    {
      "cell_type": "code",
      "metadata": {
        "id": "J7BvA5Zuzm_M"
      },
      "source": [
        "model = Sequential()\n",
        "inputShape = (height, width, depth)\n",
        "chanDim = -1\n",
        "if K.image_data_format() == \"channels_first\":\n",
        "    inputShape = (depth, height, width)\n",
        "    chanDim = 1\n",
        "model.add(Conv2D(32, (3, 3), padding=\"same\",input_shape=inputShape))\n",
        "model.add(Activation(\"relu\"))\n",
        "model.add(BatchNormalization(axis=chanDim))\n",
        "model.add(MaxPooling2D(pool_size=(3, 3)))\n",
        "model.add(Dropout(0.25))\n",
        "model.add(Conv2D(64, (3, 3), padding=\"same\"))\n",
        "model.add(Activation(\"relu\"))\n",
        "model.add(BatchNormalization(axis=chanDim))\n",
        "model.add(Conv2D(64, (3, 3), padding=\"same\"))\n",
        "model.add(Activation(\"relu\"))\n",
        "model.add(BatchNormalization(axis=chanDim))\n",
        "model.add(MaxPooling2D(pool_size=(2, 2)))\n",
        "# model.add(Dropout(0.25))\n",
        "# model.add(Conv2D(128, (3, 3), padding=\"same\"))\n",
        "# model.add(Activation(\"relu\"))\n",
        "# model.add(BatchNormalization(axis=chanDim))\n",
        "model.add(Conv2D(128, (3, 3), padding=\"same\"))\n",
        "model.add(Activation(\"relu\"))\n",
        "model.add(BatchNormalization(axis=chanDim))\n",
        "model.add(MaxPooling2D(pool_size=(2, 2)))\n",
        "# model.add(Dropout(0.25))\n",
        "model.add(Flatten())\n",
        "model.add(Dense(1024))\n",
        "model.add(Activation(\"relu\"))\n",
        "model.add(BatchNormalization())\n",
        "model.add(Dropout(0.4))\n",
        "model.add(Dense(1,activation='linear'))"
      ],
      "execution_count": 40,
      "outputs": []
    },
    {
      "cell_type": "code",
      "metadata": {
        "colab": {
          "base_uri": "https://localhost:8080/"
        },
        "id": "FR6RPUUB2SzL",
        "outputId": "3b8d5ee1-67fc-4f7e-d88d-3f20f2d43225"
      },
      "source": [
        "model.summary()"
      ],
      "execution_count": 41,
      "outputs": [
        {
          "output_type": "stream",
          "text": [
            "Model: \"sequential_3\"\n",
            "_________________________________________________________________\n",
            "Layer (type)                 Output Shape              Param #   \n",
            "=================================================================\n",
            "conv2d_12 (Conv2D)           (None, 72, 72, 32)        896       \n",
            "_________________________________________________________________\n",
            "activation_15 (Activation)   (None, 72, 72, 32)        0         \n",
            "_________________________________________________________________\n",
            "batch_normalization_15 (Batc (None, 72, 72, 32)        128       \n",
            "_________________________________________________________________\n",
            "max_pooling2d_9 (MaxPooling2 (None, 24, 24, 32)        0         \n",
            "_________________________________________________________________\n",
            "dropout_12 (Dropout)         (None, 24, 24, 32)        0         \n",
            "_________________________________________________________________\n",
            "conv2d_13 (Conv2D)           (None, 24, 24, 64)        18496     \n",
            "_________________________________________________________________\n",
            "activation_16 (Activation)   (None, 24, 24, 64)        0         \n",
            "_________________________________________________________________\n",
            "batch_normalization_16 (Batc (None, 24, 24, 64)        256       \n",
            "_________________________________________________________________\n",
            "conv2d_14 (Conv2D)           (None, 24, 24, 64)        36928     \n",
            "_________________________________________________________________\n",
            "activation_17 (Activation)   (None, 24, 24, 64)        0         \n",
            "_________________________________________________________________\n",
            "batch_normalization_17 (Batc (None, 24, 24, 64)        256       \n",
            "_________________________________________________________________\n",
            "max_pooling2d_10 (MaxPooling (None, 12, 12, 64)        0         \n",
            "_________________________________________________________________\n",
            "conv2d_15 (Conv2D)           (None, 12, 12, 128)       73856     \n",
            "_________________________________________________________________\n",
            "activation_18 (Activation)   (None, 12, 12, 128)       0         \n",
            "_________________________________________________________________\n",
            "batch_normalization_18 (Batc (None, 12, 12, 128)       512       \n",
            "_________________________________________________________________\n",
            "max_pooling2d_11 (MaxPooling (None, 6, 6, 128)         0         \n",
            "_________________________________________________________________\n",
            "flatten_3 (Flatten)          (None, 4608)              0         \n",
            "_________________________________________________________________\n",
            "dense_6 (Dense)              (None, 1024)              4719616   \n",
            "_________________________________________________________________\n",
            "activation_19 (Activation)   (None, 1024)              0         \n",
            "_________________________________________________________________\n",
            "batch_normalization_19 (Batc (None, 1024)              4096      \n",
            "_________________________________________________________________\n",
            "dropout_13 (Dropout)         (None, 1024)              0         \n",
            "_________________________________________________________________\n",
            "dense_7 (Dense)              (None, 1)                 1025      \n",
            "=================================================================\n",
            "Total params: 4,856,065\n",
            "Trainable params: 4,853,441\n",
            "Non-trainable params: 2,624\n",
            "_________________________________________________________________\n"
          ],
          "name": "stdout"
        }
      ]
    },
    {
      "cell_type": "code",
      "metadata": {
        "id": "pANOs1dl2lbn"
      },
      "source": [
        "opt = Adam(lr=0.0001)\n",
        "model.compile(loss=\"mean_squared_error\", optimizer=opt,metrics=[metrics.MeanSquaredError()])"
      ],
      "execution_count": 42,
      "outputs": []
    },
    {
      "cell_type": "code",
      "metadata": {
        "id": "rLmdHZcNw8fC"
      },
      "source": [
        "earlystop = EarlyStopping(monitor='val_loss', patience=3)"
      ],
      "execution_count": 43,
      "outputs": []
    },
    {
      "cell_type": "code",
      "metadata": {
        "colab": {
          "base_uri": "https://localhost:8080/"
        },
        "id": "Ms9z7qi52lfB",
        "outputId": "d1299d61-987f-4700-a2b8-764e99272839"
      },
      "source": [
        "history = model.fit_generator(aug.flow(x_train, y_train, batch_size=BS), validation_data=(x_test, y_test),\n",
        "                              steps_per_epoch=len(x_train) // BS,\n",
        "                              epochs=20, verbose=1,callbacks=[earlystop])"
      ],
      "execution_count": 44,
      "outputs": [
        {
          "output_type": "stream",
          "text": [
            "/usr/local/lib/python3.7/dist-packages/tensorflow/python/keras/engine/training.py:1844: UserWarning: `Model.fit_generator` is deprecated and will be removed in a future version. Please use `Model.fit`, which supports generators.\n",
            "  warnings.warn('`Model.fit_generator` is deprecated and '\n"
          ],
          "name": "stderr"
        },
        {
          "output_type": "stream",
          "text": [
            "Epoch 1/20\n",
            "631/631 [==============================] - 53s 83ms/step - loss: 1.9957 - mean_squared_error: 1.9957 - val_loss: 35.9782 - val_mean_squared_error: 35.9782\n",
            "Epoch 2/20\n",
            "631/631 [==============================] - 50s 80ms/step - loss: 0.9195 - mean_squared_error: 0.9195 - val_loss: 0.0605 - val_mean_squared_error: 0.0605\n",
            "Epoch 3/20\n",
            "631/631 [==============================] - 51s 82ms/step - loss: 0.6057 - mean_squared_error: 0.6057 - val_loss: 0.0584 - val_mean_squared_error: 0.0584\n",
            "Epoch 4/20\n",
            "631/631 [==============================] - 52s 82ms/step - loss: 0.4439 - mean_squared_error: 0.4439 - val_loss: 0.0363 - val_mean_squared_error: 0.0363\n",
            "Epoch 5/20\n",
            "631/631 [==============================] - 50s 80ms/step - loss: 0.3202 - mean_squared_error: 0.3202 - val_loss: 0.0307 - val_mean_squared_error: 0.0307\n",
            "Epoch 6/20\n",
            "631/631 [==============================] - 52s 82ms/step - loss: 0.2149 - mean_squared_error: 0.2149 - val_loss: 0.0318 - val_mean_squared_error: 0.0318\n",
            "Epoch 7/20\n",
            "631/631 [==============================] - 51s 81ms/step - loss: 0.1527 - mean_squared_error: 0.1527 - val_loss: 0.0117 - val_mean_squared_error: 0.0117\n",
            "Epoch 8/20\n",
            "631/631 [==============================] - 52s 82ms/step - loss: 0.1082 - mean_squared_error: 0.1082 - val_loss: 0.0171 - val_mean_squared_error: 0.0171\n",
            "Epoch 9/20\n",
            "631/631 [==============================] - 52s 83ms/step - loss: 0.0750 - mean_squared_error: 0.0750 - val_loss: 0.0200 - val_mean_squared_error: 0.0200\n",
            "Epoch 10/20\n",
            "631/631 [==============================] - 51s 81ms/step - loss: 0.0459 - mean_squared_error: 0.0459 - val_loss: 0.0131 - val_mean_squared_error: 0.0131\n"
          ],
          "name": "stdout"
        }
      ]
    },
    {
      "cell_type": "code",
      "metadata": {
        "id": "UGwpvbl-__WE"
      },
      "source": [
        "loss = history.history['loss'][0:9]\n",
        "val_loss = history.history['val_loss'][0:9]"
      ],
      "execution_count": 45,
      "outputs": []
    },
    {
      "cell_type": "code",
      "metadata": {
        "id": "O4ZTGw4KkXQc",
        "colab": {
          "base_uri": "https://localhost:8080/",
          "height": 316
        },
        "outputId": "1df0ccb6-f7b3-412a-b2e8-f670b68f7ebd"
      },
      "source": [
        "epochs = range(1, 9 + 1)\n",
        "#Train and validation accuracy\n",
        "plt.plot(epochs, loss, 'b', label='Training loss')\n",
        "plt.plot(epochs, val_loss, 'r', label='Validation loss')\n",
        "plt.title('Training and Validation loss')\n",
        "plt.legend()\n",
        "plt.figure()"
      ],
      "execution_count": 46,
      "outputs": [
        {
          "output_type": "execute_result",
          "data": {
            "text/plain": [
              "<Figure size 432x288 with 0 Axes>"
            ]
          },
          "metadata": {
            "tags": []
          },
          "execution_count": 46
        },
        {
          "output_type": "display_data",
          "data": {
            "image/png": "[encoded data removed]",
            "text/plain": [
              "<Figure size 432x288 with 1 Axes>"
            ]
          },
          "metadata": {
            "tags": [],
            "needs_background": "light"
          }
        },
        {
          "output_type": "display_data",
          "data": {
            "text/plain": [
              "<Figure size 432x288 with 0 Axes>"
            ]
          },
          "metadata": {
            "tags": []
          }
        }
      ]
    },
    {
      "cell_type": "code",
      "metadata": {
        "colab": {
          "base_uri": "https://localhost:8080/"
        },
        "id": "qGWOjqEWtj1I",
        "outputId": "10b59a8d-0177-456f-dcc4-938c2832e1f8"
      },
      "source": [
        "from google.colab import drive\n",
        "drive.mount('/content/drive')"
      ],
      "execution_count": 1,
      "outputs": [
        {
          "output_type": "stream",
          "text": [
            "Mounted at /content/drive\n"
          ],
          "name": "stdout"
        }
      ]
    },
    {
      "cell_type": "markdown",
      "metadata": {
        "id": "G7fAkA4q5I1I"
      },
      "source": [
        "Prediction\n"
      ]
    },
    {
      "cell_type": "code",
      "metadata": {
        "colab": {
          "base_uri": "https://localhost:8080/",
          "height": 286
        },
        "id": "LXFeWWXv5eG6",
        "outputId": "848cd9c7-9250-4c47-bd22-0ee9850cda0a"
      },
      "source": [
        "image = cv2.imread(directory + image_names[3])\n",
        "plt.imshow(image)"
      ],
      "execution_count": 51,
      "outputs": [
        {
          "output_type": "execute_result",
          "data": {
            "text/plain": [
              "<matplotlib.image.AxesImage at 0x7f4c5853b490>"
            ]
          },
          "metadata": {
            "tags": []
          },
          "execution_count": 51
        },
        {
          "output_type": "display_data",
          "data": {
            "image/png": "[encoded data removed]",
            "text/plain": [
              "<Figure size 432x288 with 1 Axes>"
            ]
          },
          "metadata": {
            "tags": [],
            "needs_background": "light"
          }
        }
      ]
    },
    {
      "cell_type": "code",
      "metadata": {
        "colab": {
          "base_uri": "https://localhost:8080/"
        },
        "id": "lrt3zRx45L5E",
        "outputId": "b0d72201-dea2-4993-9715-696ed8e147ca"
      },
      "source": [
        "print('redshift value - ',y_train[3])"
      ],
      "execution_count": 50,
      "outputs": [
        {
          "output_type": "stream",
          "text": [
            "redshift value -  0.590735\n"
          ],
          "name": "stdout"
        }
      ]
    },
    {
      "cell_type": "code",
      "metadata": {
        "colab": {
          "base_uri": "https://localhost:8080/"
        },
        "id": "OE9m2iZftkgm",
        "outputId": "a176249f-df2e-4d98-c9ad-687570e8d960"
      },
      "source": [
        "print('Predicted photoometric redshift - ',model.predict(x_train[3].reshape(1,72,72,3)))"
      ],
      "execution_count": 49,
      "outputs": [
        {
          "output_type": "stream",
          "text": [
            "Predicted photoometric redshift -  [[0.59490615]]\n"
          ],
          "name": "stdout"
        }
      ]
    },
    {
      "cell_type": "code",
      "metadata": {
        "colab": {
          "base_uri": "https://localhost:8080/",
          "height": 286
        },
        "id": "SxqMVEwb5yM1",
        "outputId": "ce86f564-6ee0-4f22-ac50-d0a81be8f9e9"
      },
      "source": [
        "image = cv2.imread(directory + image_names[4])\n",
        "plt.imshow(image)"
      ],
      "execution_count": 52,
      "outputs": [
        {
          "output_type": "execute_result",
          "data": {
            "text/plain": [
              "<matplotlib.image.AxesImage at 0x7f4c585fd810>"
            ]
          },
          "metadata": {
            "tags": []
          },
          "execution_count": 52
        },
        {
          "output_type": "display_data",
          "data": {
            "image/png": "[encoded data removed]",
            "text/plain": [
              "<Figure size 432x288 with 1 Axes>"
            ]
          },
          "metadata": {
            "tags": [],
            "needs_background": "light"
          }
        }
      ]
    },
    {
      "cell_type": "code",
      "metadata": {
        "colab": {
          "base_uri": "https://localhost:8080/"
        },
        "id": "5h6pUrR25yNN",
        "outputId": "fa7fdb76-d92c-4c89-f619-f850596b5393"
      },
      "source": [
        "print('redshift value - ',y_train[4])"
      ],
      "execution_count": 53,
      "outputs": [
        {
          "output_type": "stream",
          "text": [
            "redshift value -  0.0822162\n"
          ],
          "name": "stdout"
        }
      ]
    },
    {
      "cell_type": "code",
      "metadata": {
        "colab": {
          "base_uri": "https://localhost:8080/"
        },
        "id": "GpV9yJ6V5yNO",
        "outputId": "afe8c25a-a49b-47c3-bfd3-19b085b424b1"
      },
      "source": [
        "print('Predicted photoometric redshift - ',model.predict(x_train[4].reshape(1,72,72,3)))"
      ],
      "execution_count": 54,
      "outputs": [
        {
          "output_type": "stream",
          "text": [
            "Predicted photoometric redshift -  [[0.04285297]]\n"
          ],
          "name": "stdout"
        }
      ]
    },
    {
      "cell_type": "code",
      "metadata": {
        "id": "wqVhMpvA53gT"
      },
      "source": [
        ""
      ],
      "execution_count": null,
      "outputs": []
    },
    {
      "cell_type": "markdown",
      "metadata": {
        "id": "FeaM0SMeBo2t"
      },
      "source": [
        "DenseNet - 121"
      ]
    },
    {
      "cell_type": "code",
      "metadata": {
        "id": "NycKGXKOtyAu"
      },
      "source": [
        "from keras.applications.inception_v3 import InceptionV3\n",
        "from keras.applications.densenet import DenseNet121\n",
        "from keras.models import Model\n",
        "\n",
        "\n",
        "base_model = DenseNet121(weights='imagenet', input_shape=(72, 72, 3),include_top=False)\n",
        "x = base_model.output\n",
        "x = Flatten()(x)\n",
        "x = Dense(1024, activation='relu')(x)\n",
        "prediction = Dense(1, activation='linear')(x)\n",
        "model = Model(inputs=base_model.input, outputs=prediction)\n",
        "\n",
        "# freezing all layers of dense net \n",
        "for layer in base_model.layers:\n",
        "    layer.trainable = False\n"
      ],
      "execution_count": 23,
      "outputs": []
    },
    {
      "cell_type": "code",
      "metadata": {
        "id": "VsZPfFxOzQuo"
      },
      "source": [
        "model.compile(loss=\"mean_squared_error\", optimizer=Adam(learning_rate=0.0001),metrics=[metrics.MeanSquaredError()])\n",
        "BS = 64\n",
        "earlystop = EarlyStopping(monitor='loss', patience=3)"
      ],
      "execution_count": 24,
      "outputs": []
    },
    {
      "cell_type": "code",
      "metadata": {
        "id": "0YZi4Sldzb7O",
        "colab": {
          "base_uri": "https://localhost:8080/"
        },
        "outputId": "ee4b7872-b019-4ea2-e05d-2af4c7ed24a0"
      },
      "source": [
        "history = model.fit_generator(aug.flow(x_train, y_train, batch_size=BS), validation_data=(x_test, y_test),\n",
        "                              steps_per_epoch=len(x_train) // BS,\n",
        "                              epochs=13, verbose=1,callbacks=[earlystop])"
      ],
      "execution_count": 25,
      "outputs": [
        {
          "output_type": "stream",
          "text": [
            "/usr/local/lib/python3.7/dist-packages/tensorflow/python/keras/engine/training.py:1844: UserWarning: `Model.fit_generator` is deprecated and will be removed in a future version. Please use `Model.fit`, which supports generators.\n",
            "  warnings.warn('`Model.fit_generator` is deprecated and '\n"
          ],
          "name": "stderr"
        },
        {
          "output_type": "stream",
          "text": [
            "Epoch 1/13\n",
            "631/631 [==============================] - 67s 98ms/step - loss: 0.1113 - mean_squared_error: 0.1113 - val_loss: 0.0171 - val_mean_squared_error: 0.0171\n",
            "Epoch 2/13\n",
            "631/631 [==============================] - 58s 92ms/step - loss: 0.0343 - mean_squared_error: 0.0343 - val_loss: 0.0198 - val_mean_squared_error: 0.0198\n",
            "Epoch 3/13\n",
            "631/631 [==============================] - 58s 92ms/step - loss: 0.0309 - mean_squared_error: 0.0309 - val_loss: 0.0135 - val_mean_squared_error: 0.0135\n",
            "Epoch 4/13\n",
            "631/631 [==============================] - 58s 91ms/step - loss: 0.0156 - mean_squared_error: 0.0156 - val_loss: 0.0138 - val_mean_squared_error: 0.0138\n",
            "Epoch 5/13\n",
            "631/631 [==============================] - 58s 92ms/step - loss: 0.0146 - mean_squared_error: 0.0146 - val_loss: 0.0232 - val_mean_squared_error: 0.0232\n",
            "Epoch 6/13\n",
            "631/631 [==============================] - 57s 91ms/step - loss: 0.0146 - mean_squared_error: 0.0146 - val_loss: 0.0108 - val_mean_squared_error: 0.0108\n",
            "Epoch 7/13\n",
            "631/631 [==============================] - 57s 91ms/step - loss: 0.0149 - mean_squared_error: 0.0149 - val_loss: 0.0107 - val_mean_squared_error: 0.0107\n",
            "Epoch 8/13\n",
            "631/631 [==============================] - 57s 91ms/step - loss: 0.0123 - mean_squared_error: 0.0123 - val_loss: 0.0150 - val_mean_squared_error: 0.0150\n",
            "Epoch 9/13\n",
            "631/631 [==============================] - 58s 91ms/step - loss: 0.0124 - mean_squared_error: 0.0124 - val_loss: 0.0100 - val_mean_squared_error: 0.0100\n",
            "Epoch 10/13\n",
            "631/631 [==============================] - 58s 92ms/step - loss: 0.0125 - mean_squared_error: 0.0125 - val_loss: 0.0218 - val_mean_squared_error: 0.0218\n",
            "Epoch 11/13\n",
            "631/631 [==============================] - 57s 90ms/step - loss: 0.0143 - mean_squared_error: 0.0143 - val_loss: 0.0115 - val_mean_squared_error: 0.0115\n",
            "Epoch 12/13\n",
            "631/631 [==============================] - 57s 90ms/step - loss: 0.0116 - mean_squared_error: 0.0116 - val_loss: 0.0093 - val_mean_squared_error: 0.0093\n",
            "Epoch 13/13\n",
            "631/631 [==============================] - 57s 91ms/step - loss: 0.0151 - mean_squared_error: 0.0151 - val_loss: 0.0093 - val_mean_squared_error: 0.0093\n"
          ],
          "name": "stdout"
        }
      ]
    },
    {
      "cell_type": "code",
      "metadata": {
        "id": "04ZGiwILAtaQ"
      },
      "source": [
        "loss = history.history['loss'][0:12]\n",
        "val_loss = history.history['val_loss'][0:12]"
      ],
      "execution_count": 26,
      "outputs": []
    },
    {
      "cell_type": "code",
      "metadata": {
        "colab": {
          "base_uri": "https://localhost:8080/",
          "height": 316
        },
        "id": "10Z5g_zLAtaT",
        "outputId": "0e5efdda-257d-4018-b5a1-c48ae72b0a4c"
      },
      "source": [
        "epochs = range(1, 12 + 1)\n",
        "#Train and validation accuracy\n",
        "plt.plot(epochs, loss, 'b', label='Training loss')\n",
        "plt.plot(epochs, val_loss, 'r', label='Validation loss')\n",
        "plt.title('Training and Validation loss')\n",
        "plt.legend()\n",
        "plt.figure()"
      ],
      "execution_count": 27,
      "outputs": [
        {
          "output_type": "execute_result",
          "data": {
            "text/plain": [
              "<Figure size 432x288 with 0 Axes>"
            ]
          },
          "metadata": {
            "tags": []
          },
          "execution_count": 27
        },
        {
          "output_type": "display_data",
          "data": {
            "image/png": "[encoded data removed]",
            "text/plain": [
              "<Figure size 432x288 with 1 Axes>"
            ]
          },
          "metadata": {
            "tags": [],
            "needs_background": "light"
          }
        },
        {
          "output_type": "display_data",
          "data": {
            "text/plain": [
              "<Figure size 432x288 with 0 Axes>"
            ]
          },
          "metadata": {
            "tags": []
          }
        }
      ]
    },
    {
      "cell_type": "code",
      "metadata": {
        "colab": {
          "base_uri": "https://localhost:8080/"
        },
        "id": "2is55oZxMHPt",
        "outputId": "c8136cb7-29e7-4984-cd34-ad290c69cbf4"
      },
      "source": [
        "model_json = model.to_json()\n",
        "with open(\"model.json\", \"w\") as json_file:\n",
        "    json_file.write(model_json)\n",
        "model.save_weights(\"model.h5\")\n",
        "print(\"Saved model to disk\")"
      ],
      "execution_count": 30,
      "outputs": [
        {
          "output_type": "stream",
          "text": [
            "Saved model to disk\n"
          ],
          "name": "stdout"
        }
      ]
    },
    {
      "cell_type": "code",
      "metadata": {
        "colab": {
          "base_uri": "https://localhost:8080/"
        },
        "id": "PYu7JxFBMHSV",
        "outputId": "c1f8ab2f-23a4-43f7-f6f3-01c38d13c726"
      },
      "source": [
        "from keras.models import model_from_json\n",
        "json_file = open('model.json', 'r')\n",
        "loaded_model_json = json_file.read()\n",
        "json_file.close()\n",
        "loaded_model = model_from_json(loaded_model_json)\n",
        "loaded_model.load_weights(\"model.h5\")\n",
        "print(\"Loaded model from disk\")"
      ],
      "execution_count": 31,
      "outputs": [
        {
          "output_type": "stream",
          "text": [
            "Loaded model from disk\n"
          ],
          "name": "stdout"
        }
      ]
    }
  ]
}